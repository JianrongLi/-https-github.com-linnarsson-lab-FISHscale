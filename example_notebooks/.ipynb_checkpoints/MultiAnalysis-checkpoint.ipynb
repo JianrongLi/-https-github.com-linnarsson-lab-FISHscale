{
 "cells": [
  {
   "cell_type": "code",
   "execution_count": 1,
   "metadata": {},
   "outputs": [
    {
     "name": "stderr",
     "output_type": "stream",
     "text": [
      "WARNING - 2021-04-20 18:12:06,741 - version - The OGB package is out of date. Your version is 1.3.0, while the latest version is 1.3.1.\n"
     ]
    }
   ],
   "source": [
    "import sys\n",
    "import pandas as pd\n",
    "import os\n",
    "sys.path.append('/Users/admin/OneDrive - KI.SE/Projects')\n",
    "\n",
    "from FISHscale.utils import PandasDataset, multi_dataset\n",
    "from FISHscale.graphNN.graph_utils import GraphData\n",
    "from FISHscale.graphNN.models import SAGE\n",
    "from FISHscale.graphNN.trainer import TrainerGNN\n",
    "\n",
    "%load_ext autoreload\n",
    "%autoreload 2"
   ]
  },
  {
   "cell_type": "markdown",
   "metadata": {},
   "source": [
    "# Load Directly from folder"
   ]
  },
  {
   "cell_type": "code",
   "execution_count": 53,
   "metadata": {},
   "outputs": [
    {
     "name": "stderr",
     "output_type": "stream",
     "text": [
      "100%|██████████| 3/3 [00:20<00:00,  6.70s/it]\n"
     ]
    }
   ],
   "source": [
    "md = multi_dataset(gene_column='decoded_genes')\n",
    "md.load_data('../processed_data/')"
   ]
  },
  {
   "cell_type": "code",
   "execution_count": 54,
   "metadata": {},
   "outputs": [
    {
     "name": "stdout",
     "output_type": "stream",
     "text": [
      "MultiDataset\n",
      "../processed_data/210413_17_10_56_AMEXP20210320_EEL_SL006_data_summary_simple_plotting.parquet\n",
      "../processed_data/210413_19_25_19_JJEXP20210323_EEL_SL005_data_summary_simple_plotting.parquet\n",
      "../processed_data/210414_19_55_34_JJEXP20210318_EEL_SL007_data_summary_simple_plotting.parquet\n",
      "Data Loaded\n"
     ]
    }
   ],
   "source": [
    "md.visualize()"
   ]
  },
  {
   "cell_type": "markdown",
   "metadata": {},
   "source": [
    "# Load From individual PandasDataset objects"
   ]
  },
  {
   "cell_type": "code",
   "execution_count": 59,
   "metadata": {},
   "outputs": [],
   "source": [
    "SL006 = PandasDataset('210413_17_10_56_AMEXP20210320_EEL_SL006_data_summary_simple_plotting.parquet',gene_column='decoded_genes')\n",
    "SL003 = PandasDataset('../AMEXP20210315_EEL_SL003/20210329-AMEXP20210315_EEL_SL003.parquet')\n",
    "\n",
    "md = multi_dataset(gene_column='decoded_genes')\n",
    "md.load_PandasDatasets([SL003,SL006])\n"
   ]
  },
  {
   "cell_type": "code",
   "execution_count": 60,
   "metadata": {},
   "outputs": [
    {
     "name": "stdout",
     "output_type": "stream",
     "text": [
      "QApplication instance already exists: <PyQt5.QtWidgets.QApplication object at 0x7fae60680430>\n",
      "MultiDataset\n",
      "../AMEXP20210315_EEL_SL003/20210329-AMEXP20210315_EEL_SL003.parquet\n",
      "decoded_genes below3Hdistance_genes\n",
      "210413_17_10_56_AMEXP20210320_EEL_SL006_data_summary_simple_plotting.parquet\n",
      "decoded_genes decoded_genes\n",
      "Data Loaded\n"
     ]
    }
   ],
   "source": [
    "md.visualize()"
   ]
  },
  {
   "cell_type": "code",
   "execution_count": null,
   "metadata": {},
   "outputs": [],
   "source": []
  }
 ],
 "metadata": {
  "kernelspec": {
   "display_name": "Python 3",
   "language": "python",
   "name": "python3"
  },
  "language_info": {
   "codemirror_mode": {
    "name": "ipython",
    "version": 3
   },
   "file_extension": ".py",
   "mimetype": "text/x-python",
   "name": "python",
   "nbconvert_exporter": "python",
   "pygments_lexer": "ipython3",
   "version": "3.8.5"
  }
 },
 "nbformat": 4,
 "nbformat_minor": 4
}
