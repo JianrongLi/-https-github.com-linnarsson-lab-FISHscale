{
 "cells": [
  {
   "cell_type": "code",
   "execution_count": 1,
   "metadata": {},
   "outputs": [],
   "source": [
    "import sys\n",
    "import pandas as pd\n",
    "import os\n",
    "sys.path.append('/Users/admin/OneDrive - KI.SE/Projects')\n",
    "\n",
    "from FISHscale.utils import Dataset, MultiDataset\n",
    "\n",
    "%load_ext autoreload\n",
    "%autoreload 2"
   ]
  },
  {
   "cell_type": "markdown",
   "metadata": {},
   "source": [
    "# Load Directly from folder"
   ]
  },
  {
   "cell_type": "code",
   "execution_count": 5,
   "metadata": {},
   "outputs": [
    {
     "name": "stderr",
     "output_type": "stream",
     "text": [
      "100%|██████████| 3/3 [00:17<00:00,  5.85s/it]\n"
     ]
    }
   ],
   "source": [
    "# Include other_columns if you want your Dataset object to have .fov_num attrs or any other column\n",
    "MD = MultiDataset('../../EEL/Cancer/processed_data/',gene_label='decoded_genes',other_columns=['fov_num'])\n"
   ]
  },
  {
   "cell_type": "code",
   "execution_count": 6,
   "metadata": {},
   "outputs": [
    {
     "name": "stdout",
     "output_type": "stream",
     "text": [
      "MultiDataset\n",
      "../../EEL/Cancer/processed_data/210413_17_10_56_AMEXP20210320_EEL_SL006_data_summary_simple_plotting.parquet\n",
      "../../EEL/Cancer/processed_data/210413_19_25_19_JJEXP20210323_EEL_SL005_data_summary_simple_plotting.parquet\n",
      "../../EEL/Cancer/processed_data/210414_19_55_34_JJEXP20210318_EEL_SL007_data_summary_simple_plotting.parquet\n",
      "Data Loaded\n"
     ]
    }
   ],
   "source": [
    "#Include a list of attrs from each Dataset object that you will like to be plotted as different categories\n",
    "# at them moment all datasets will be loaded in memory and that will make plotting slower\n",
    "MD.visualize()"
   ]
  },
  {
   "cell_type": "markdown",
   "metadata": {},
   "source": [
    "# Load From individual PandasDataset objects"
   ]
  },
  {
   "cell_type": "code",
   "execution_count": 2,
   "metadata": {},
   "outputs": [],
   "source": [
    "# In case you have preloaded Dataset objects\n",
    "SL006 = Dataset('../../EEL/Cancer/AMEXP20210320_EEL_SL006/210413_17_10_56_AMEXP20210320_EEL_SL006_data_summary_simple_plotting.parquet',gene_label='decoded_genes',apply_offset=True)\n",
    "#SL005 = Dataset('../../EEL/Cancer/processed_data/210413_19_25_19_JJEXP20210323_EEL_SL005_data_summary_simple_plotting.parquet',gene_label='decoded_genes',apply_offset=True,x_offset=50000,unique_genes=SL006.unique_genes)\n",
    "#SL007 = Dataset('../../EEL/Cancer/processed_data/210414_19_55_34_JJEXP20210318_EEL_SL007_data_summary_simple_plotting.parquet',gene_label='decoded_genes',apply_offset=True,x_offset=100000,unique_genes=SL006.unique_genes)\n",
    "#SL003 = Dataset('../../EEL/Cancer/AMEXP20210315_EEL_SL003/20210329-AMEXP20210315_EEL_SL003.parquet',apply_offset=True,x_offset=150000,unique_genes=SL006.unique_genes)\n",
    "\n",
    "#MD = MultiDataset([SL006,SL003,SL005,SL007])\n"
   ]
  },
  {
   "cell_type": "code",
   "execution_count": 4,
   "metadata": {},
   "outputs": [
    {
     "name": "stdout",
     "output_type": "stream",
     "text": [
      "Single Dataset\n",
      "../../EEL/Cancer/AMEXP20210320_EEL_SL006/210413_17_10_56_AMEXP20210320_EEL_SL006_data_summary_simple_plotting.parquet\n",
      "Data Loaded\n",
      "selected gene time: 0.009364453000003437\n",
      "cs (10819, 3)\n",
      "loop time: 0.023022783000001823\n",
      "concatenation time: 0.00043208499999991545: \n",
      "selected gene time: 0.009438451000008286\n",
      "cs (10091, 3)\n",
      "loop time: 0.02434053999999719\n",
      "concatenation time: 0.0005778419999984408: \n",
      "selected gene time: 0.006888314999997647\n",
      "cs (7077, 3)\n",
      "loop time: 0.02170959999999411\n",
      "concatenation time: 0.00045401300000946776: \n",
      "selected gene time: 0.0067310539999994035\n",
      "cs (7145, 3)\n",
      "loop time: 0.021367779000001974\n",
      "concatenation time: 0.0003274089999933949: \n",
      "selected gene time: 0.008225479999993013\n",
      "cs (8786, 3)\n",
      "loop time: 0.025054752000002622\n",
      "concatenation time: 0.0003887700000007044: \n",
      "selected gene time: 0.0035605079999925238\n",
      "cs (3102, 3)\n",
      "loop time: 0.01847426599999835\n",
      "concatenation time: 0.0002784270000120159: \n",
      "selected gene time: 0.005686116999996216\n",
      "cs (5500, 3)\n",
      "loop time: 0.0201246000000026\n",
      "concatenation time: 0.00042378300000223135: \n",
      "selected gene time: 0.003956556000005662\n",
      "cs (3479, 3)\n",
      "loop time: 0.01875623899999823\n",
      "concatenation time: 0.00043403700000510526: \n",
      "selected gene time: 0.013663963000013268\n",
      "cs (15536, 3)\n",
      "loop time: 0.0282597440000103\n",
      "concatenation time: 0.0009630950000030225: \n",
      "selected gene time: 0.06224457300000097\n",
      "cs (76886, 3)\n",
      "loop time: 0.07561105899999632\n",
      "concatenation time: 0.003440306999991094: \n",
      "selected gene time: 0.008722903999995424\n",
      "cs (9265, 3)\n",
      "loop time: 0.02346482900000524\n",
      "concatenation time: 0.0004229519999796594: \n"
     ]
    }
   ],
   "source": [
    "SL006.visualize()"
   ]
  },
  {
   "cell_type": "code",
   "execution_count": null,
   "metadata": {},
   "outputs": [],
   "source": [
    "MD.visualize()"
   ]
  },
  {
   "cell_type": "code",
   "execution_count": null,
   "metadata": {},
   "outputs": [],
   "source": [
    "import numpy as np\n",
    "np.array([[[1,2,3]]*40]).shape"
   ]
  },
  {
   "cell_type": "code",
   "execution_count": null,
   "metadata": {},
   "outputs": [],
   "source": []
  }
 ],
 "metadata": {
  "kernelspec": {
   "display_name": "Python 3",
   "language": "python",
   "name": "python3"
  },
  "language_info": {
   "codemirror_mode": {
    "name": "ipython",
    "version": 3
   },
   "file_extension": ".py",
   "mimetype": "text/x-python",
   "name": "python",
   "nbconvert_exporter": "python",
   "pygments_lexer": "ipython3",
   "version": "3.8.5"
  }
 },
 "nbformat": 4,
 "nbformat_minor": 4
}
