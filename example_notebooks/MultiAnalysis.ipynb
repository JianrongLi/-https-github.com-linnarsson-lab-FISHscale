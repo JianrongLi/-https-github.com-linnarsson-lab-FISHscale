{
 "cells": [
  {
   "cell_type": "code",
   "execution_count": 1,
   "metadata": {},
   "outputs": [],
   "source": [
    "import sys\n",
    "import pandas as pd\n",
    "import os\n",
    "sys.path.append('/Users/admin/OneDrive - KI.SE/Projects')\n",
    "\n",
    "from FISHscale.utils import Dataset, MultiDataset\n",
    "\n",
    "%load_ext autoreload\n",
    "%autoreload 2"
   ]
  },
  {
   "cell_type": "code",
   "execution_count": 2,
   "metadata": {},
   "outputs": [],
   "source": [
    "SL006 = Dataset('../../EEL/Cancer/AMEXP20210320_EEL_SL006/210413_17_10_56_AMEXP20210320_EEL_SL006_data_summary_simple_plotting.parquet',gene_label='decoded_genes',apply_offset=True,color_input='210413_17_10_56_AMEXP20210320_EEL_SL006_data_summary_simple_plotting_color_dictionary.pkl')\n",
    "#SL006.visualize()\n"
   ]
  },
  {
   "cell_type": "code",
   "execution_count": null,
   "metadata": {},
   "outputs": [
    {
     "name": "stdout",
     "output_type": "stream",
     "text": [
      "Single Dataset\n",
      "../../EEL/Cancer/AMEXP20210320_EEL_SL006/210413_17_10_56_AMEXP20210320_EEL_SL006_data_summary_simple_plotting.parquet\n",
      "Data Loaded\n",
      "run\n"
     ]
    }
   ],
   "source": [
    "SL006.visualize()"
   ]
  },
  {
   "cell_type": "markdown",
   "metadata": {},
   "source": [
    "# Load Directly from folder"
   ]
  },
  {
   "cell_type": "code",
   "execution_count": null,
   "metadata": {},
   "outputs": [],
   "source": [
    "# Include other_columns if you want your Dataset object to have .fov_num attrs or any other column\n",
    "MD = MultiDataset('../../EEL/Cancer/processed_data/',gene_label='decoded_genes',other_columns=['fov_num'])\n"
   ]
  },
  {
   "cell_type": "code",
   "execution_count": null,
   "metadata": {},
   "outputs": [],
   "source": [
    "#Include a list of attrs from each Dataset object that you will like to be plotted as different categories\n",
    "# at them moment all datasets will be loaded in memory and that will make plotting slower\n",
    "MD.visualize()"
   ]
  },
  {
   "cell_type": "markdown",
   "metadata": {},
   "source": [
    "# Load From individual PandasDataset objects"
   ]
  },
  {
   "cell_type": "code",
   "execution_count": null,
   "metadata": {},
   "outputs": [],
   "source": [
    "# In case you have preloaded Dataset objects\n",
    "SL006 = Dataset('../../EEL/Cancer/AMEXP20210320_EEL_SL006/210413_17_10_56_AMEXP20210320_EEL_SL006_data_summary_simple_plotting.parquet',gene_label='decoded_genes',apply_offset=True)\n",
    "SL005 = Dataset('../../EEL/Cancer/processed_data/210413_19_25_19_JJEXP20210323_EEL_SL005_data_summary_simple_plotting.parquet',gene_label='decoded_genes',apply_offset=True,x_offset=50000,unique_genes=SL006.unique_genes)\n",
    "SL007 = Dataset('../../EEL/Cancer/processed_data/210414_19_55_34_JJEXP20210318_EEL_SL007_data_summary_simple_plotting.parquet',gene_label='decoded_genes',apply_offset=True,x_offset=100000,unique_genes=SL006.unique_genes)\n",
    "SL003 = Dataset('../../EEL/Cancer/AMEXP20210315_EEL_SL003/20210329-AMEXP20210315_EEL_SL003.parquet',apply_offset=True,x_offset=150000,unique_genes=SL006.unique_genes)\n",
    "\n",
    "MD = MultiDataset([SL006,SL003,SL005,SL007])\n"
   ]
  },
  {
   "cell_type": "code",
   "execution_count": null,
   "metadata": {},
   "outputs": [],
   "source": []
  },
  {
   "cell_type": "code",
   "execution_count": null,
   "metadata": {},
   "outputs": [],
   "source": [
    "SL006.visualize()\n"
   ]
  },
  {
   "cell_type": "code",
   "execution_count": null,
   "metadata": {},
   "outputs": [],
   "source": []
  },
  {
   "cell_type": "code",
   "execution_count": null,
   "metadata": {},
   "outputs": [],
   "source": [
    "print('a')"
   ]
  },
  {
   "cell_type": "code",
   "execution_count": null,
   "metadata": {},
   "outputs": [],
   "source": [
    "import threading, time\n",
    "class Time:\n",
    "    def __init__(self):\n",
    "        self.hello = 'hello'\n",
    "        self.cancel= False\n",
    "        self.break_loop = False\n",
    "        self.t = threading.Thread(target=self.runA())\n",
    "        \n",
    "        \n",
    "    def p(self):\n",
    "        print('a')\n",
    "        if self.cancel == False:\n",
    "            t= threading.Timer(1,self.p)\n",
    "            t.start()\n",
    "    \n",
    "    def runA(self):\n",
    "        while True:\n",
    "            print('A')\n",
    "            if self.break_loop:\n",
    "                break\n",
    "            time.sleep(2)\n",
    "class sec:\n",
    "    def __init__(self):\n",
    "        Time()"
   ]
  },
  {
   "cell_type": "code",
   "execution_count": null,
   "metadata": {},
   "outputs": [],
   "source": [
    "a = Time()"
   ]
  },
  {
   "cell_type": "code",
   "execution_count": null,
   "metadata": {},
   "outputs": [],
   "source": [
    "a.break_loop = True"
   ]
  },
  {
   "cell_type": "code",
   "execution_count": null,
   "metadata": {},
   "outputs": [],
   "source": [
    "a.break_loop = True"
   ]
  },
  {
   "cell_type": "code",
   "execution_count": null,
   "metadata": {},
   "outputs": [],
   "source": [
    "a.t.start()"
   ]
  },
  {
   "cell_type": "code",
   "execution_count": null,
   "metadata": {},
   "outputs": [],
   "source": [
    "a.t.start()"
   ]
  },
  {
   "cell_type": "code",
   "execution_count": null,
   "metadata": {},
   "outputs": [],
   "source": [
    "a.t.cancel()"
   ]
  },
  {
   "cell_type": "code",
   "execution_count": null,
   "metadata": {},
   "outputs": [],
   "source": [
    "t = threading.Timer(1,p)\n",
    "def p():\n",
    "    print('a')\n",
    "    t.start()\n",
    "\n",
    "    "
   ]
  },
  {
   "cell_type": "code",
   "execution_count": null,
   "metadata": {},
   "outputs": [],
   "source": [
    "\n",
    "import threading, time\n",
    "\n",
    "def foo():\n",
    "    print(time.ctime())\n",
    "    \n",
    "WAIT_TIME_SECONDS = 2\n",
    "\n",
    "ticker = threading.Event()\n",
    "while not ticker.wait(WAIT_TIME_SECONDS):\n",
    "    foo()"
   ]
  },
  {
   "cell_type": "code",
   "execution_count": null,
   "metadata": {},
   "outputs": [],
   "source": [
    "ticker.cancel()"
   ]
  },
  {
   "cell_type": "code",
   "execution_count": null,
   "metadata": {},
   "outputs": [],
   "source": []
  }
 ],
 "metadata": {
  "kernelspec": {
   "display_name": "Python 3",
   "language": "python",
   "name": "python3"
  },
  "language_info": {
   "codemirror_mode": {
    "name": "ipython",
    "version": 3
   },
   "file_extension": ".py",
   "mimetype": "text/x-python",
   "name": "python",
   "nbconvert_exporter": "python",
   "pygments_lexer": "ipython3",
   "version": "3.8.5"
  }
 },
 "nbformat": 4,
 "nbformat_minor": 4
}
