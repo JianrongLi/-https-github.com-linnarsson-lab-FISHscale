{
 "cells": [
  {
   "cell_type": "code",
   "execution_count": 95,
   "metadata": {},
   "outputs": [
    {
     "name": "stdout",
     "output_type": "stream",
     "text": [
      "The autoreload extension is already loaded. To reload it, use:\n",
      "  %reload_ext autoreload\n"
     ]
    }
   ],
   "source": [
    "import sys\n",
    "import pandas as pd\n",
    "import os\n",
    "sys.path.append('/Users/admin/OneDrive - KI.SE/Projects')\n",
    "\n",
    "from FISHscale.utils import Dataset, MultiDataset\n",
    "\n",
    "%load_ext autoreload\n",
    "%autoreload 2"
   ]
  },
  {
   "cell_type": "markdown",
   "metadata": {},
   "source": [
    "# Load Directly from folder"
   ]
  },
  {
   "cell_type": "code",
   "execution_count": null,
   "metadata": {},
   "outputs": [],
   "source": [
    "# Include other_columns if you want your Dataset object to have .fov_num attrs or any other column\n",
    "MD = MultiDataset(gene_label='decoded_genes',other_columns=['fov_num'])\n",
    "MD.load_multi_data('../../EEL/Cancer/processed_data/')"
   ]
  },
  {
   "cell_type": "code",
   "execution_count": null,
   "metadata": {},
   "outputs": [],
   "source": [
    "#Include a list of attrs from each Dataset object that you will like to be plotted as different categories\n",
    "# at them moment all datasets will be loaded in memory and that will make plotting slower\n",
    "MD.visualize()"
   ]
  },
  {
   "cell_type": "markdown",
   "metadata": {},
   "source": [
    "# Load From individual PandasDataset objects"
   ]
  },
  {
   "cell_type": "code",
   "execution_count": 98,
   "metadata": {},
   "outputs": [],
   "source": [
    "# In case you have preloaded Dataset objects\n",
    "SL003 = Dataset('../../EEL/Cancer/AMEXP20210320_EEL_SL006/210413_17_10_56_AMEXP20210320_EEL_SL006_data_summary_simple_plotting.parquet',gene_label='decoded_genes',apply_offset=True)\n",
    "SL006 = Dataset('../../EEL/Cancer/processed_data/210413_19_25_19_JJEXP20210323_EEL_SL005_data_summary_simple_plotting.parquet',gene_label='decoded_genes',apply_offset=True)\n",
    "MD = MultiDataset()\n",
    "MD.load_datasets([SL006,SL003])\n"
   ]
  },
  {
   "cell_type": "code",
   "execution_count": null,
   "metadata": {},
   "outputs": [
    {
     "name": "stdout",
     "output_type": "stream",
     "text": [
      "QApplication instance already exists: <PyQt5.QtWidgets.QApplication object at 0x7fb825c49ee0>\n",
      "Single Dataset\n",
      "../../EEL/Cancer/AMEXP20210320_EEL_SL006/210413_17_10_56_AMEXP20210320_EEL_SL006_data_summary_simple_plotting.parquet\n",
      "Data Loaded\n"
     ]
    }
   ],
   "source": [
    "SL003.visualize()"
   ]
  },
  {
   "cell_type": "code",
   "execution_count": 94,
   "metadata": {},
   "outputs": [
    {
     "name": "stdout",
     "output_type": "stream",
     "text": [
      "MultiDataset\n",
      "../../EEL/Cancer/processed_data/210413_19_25_19_JJEXP20210323_EEL_SL005_data_summary_simple_plotting.parquet\n",
      "../../EEL/Cancer/AMEXP20210320_EEL_SL006/210413_17_10_56_AMEXP20210320_EEL_SL006_data_summary_simple_plotting.parquet\n",
      "Data Loaded\n"
     ]
    }
   ],
   "source": [
    "MD.visualize()"
   ]
  },
  {
   "cell_type": "code",
   "execution_count": 55,
   "metadata": {},
   "outputs": [],
   "source": [
    "pd = SL003.make_pandas()"
   ]
  },
  {
   "cell_type": "code",
   "execution_count": 66,
   "metadata": {},
   "outputs": [
    {
     "data": {
      "text/html": [
       "<div>\n",
       "<style scoped>\n",
       "    .dataframe tbody tr th:only-of-type {\n",
       "        vertical-align: middle;\n",
       "    }\n",
       "\n",
       "    .dataframe tbody tr th {\n",
       "        vertical-align: top;\n",
       "    }\n",
       "\n",
       "    .dataframe thead th {\n",
       "        text-align: right;\n",
       "    }\n",
       "</style>\n",
       "<table border=\"1\" class=\"dataframe\">\n",
       "  <thead>\n",
       "    <tr style=\"text-align: right;\">\n",
       "      <th></th>\n",
       "      <th>r_px_microscope_stitched</th>\n",
       "      <th>c_px_microscope_stitched</th>\n",
       "      <th>below3Hdistance_genes</th>\n",
       "    </tr>\n",
       "  </thead>\n",
       "  <tbody>\n",
       "    <tr>\n",
       "      <th>0</th>\n",
       "      <td>8154.4</td>\n",
       "      <td>75197.4</td>\n",
       "      <td>VIM</td>\n",
       "    </tr>\n",
       "    <tr>\n",
       "      <th>1</th>\n",
       "      <td>8410.4</td>\n",
       "      <td>73761.4</td>\n",
       "      <td>VIM</td>\n",
       "    </tr>\n",
       "    <tr>\n",
       "      <th>2</th>\n",
       "      <td>8108.4</td>\n",
       "      <td>75239.4</td>\n",
       "      <td>HBB</td>\n",
       "    </tr>\n",
       "    <tr>\n",
       "      <th>3</th>\n",
       "      <td>8529.4</td>\n",
       "      <td>74798.4</td>\n",
       "      <td>GLI3</td>\n",
       "    </tr>\n",
       "    <tr>\n",
       "      <th>4</th>\n",
       "      <td>8132.4</td>\n",
       "      <td>73921.4</td>\n",
       "      <td>VIM</td>\n",
       "    </tr>\n",
       "    <tr>\n",
       "      <th>...</th>\n",
       "      <td>...</td>\n",
       "      <td>...</td>\n",
       "      <td>...</td>\n",
       "    </tr>\n",
       "    <tr>\n",
       "      <th>6634593</th>\n",
       "      <td>31251.4</td>\n",
       "      <td>7618.93</td>\n",
       "      <td>GJA1</td>\n",
       "    </tr>\n",
       "    <tr>\n",
       "      <th>6634594</th>\n",
       "      <td>30186.4</td>\n",
       "      <td>8965.93</td>\n",
       "      <td>TOP2A</td>\n",
       "    </tr>\n",
       "    <tr>\n",
       "      <th>6634595</th>\n",
       "      <td>30992.4</td>\n",
       "      <td>8394.93</td>\n",
       "      <td>GJA1</td>\n",
       "    </tr>\n",
       "    <tr>\n",
       "      <th>6634596</th>\n",
       "      <td>31399.4</td>\n",
       "      <td>8503.93</td>\n",
       "      <td>GJA1</td>\n",
       "    </tr>\n",
       "    <tr>\n",
       "      <th>6634597</th>\n",
       "      <td>31817.4</td>\n",
       "      <td>8816.93</td>\n",
       "      <td>CD4</td>\n",
       "    </tr>\n",
       "  </tbody>\n",
       "</table>\n",
       "<p>6634598 rows × 3 columns</p>\n",
       "</div>"
      ],
      "text/plain": [
       "        r_px_microscope_stitched c_px_microscope_stitched  \\\n",
       "0                         8154.4                  75197.4   \n",
       "1                         8410.4                  73761.4   \n",
       "2                         8108.4                  75239.4   \n",
       "3                         8529.4                  74798.4   \n",
       "4                         8132.4                  73921.4   \n",
       "...                          ...                      ...   \n",
       "6634593                  31251.4                  7618.93   \n",
       "6634594                  30186.4                  8965.93   \n",
       "6634595                  30992.4                  8394.93   \n",
       "6634596                  31399.4                  8503.93   \n",
       "6634597                  31817.4                  8816.93   \n",
       "\n",
       "        below3Hdistance_genes  \n",
       "0                         VIM  \n",
       "1                         VIM  \n",
       "2                         HBB  \n",
       "3                        GLI3  \n",
       "4                         VIM  \n",
       "...                       ...  \n",
       "6634593                  GJA1  \n",
       "6634594                 TOP2A  \n",
       "6634595                  GJA1  \n",
       "6634596                  GJA1  \n",
       "6634597                   CD4  \n",
       "\n",
       "[6634598 rows x 3 columns]"
      ]
     },
     "execution_count": 66,
     "metadata": {},
     "output_type": "execute_result"
    }
   ],
   "source": [
    "pd"
   ]
  },
  {
   "cell_type": "code",
   "execution_count": 87,
   "metadata": {},
   "outputs": [],
   "source": [
    "grp = pd.groupby('below3Hdistance_genes')\n",
    "grp = {g:d for g,d in grp}\n",
    "ps = []\n",
    "sgenes = ['AQP4','TOP2A','UBE2C']\n",
    "def select_genes(gene,data,list_to_show):\n",
    "    if gene in list_to_show:\n",
    "        ps = data.loc[:,['r_px_microscope_stitched','c_px_microscope_stitched']].values\n",
    "        return ps\n",
    "    "
   ]
  },
  {
   "cell_type": "code",
   "execution_count": 91,
   "metadata": {},
   "outputs": [
    {
     "data": {
      "text/plain": [
       "array([[8214.396743820524, 73369.39335825211],\n",
       "       [7588.396743820524, 74499.39335825211],\n",
       "       [8798.396743820524, 73897.39335825211],\n",
       "       ...,\n",
       "       [30586.397651128205, 8177.934178824955],\n",
       "       [30558.397651128205, 7430.934178824955],\n",
       "       [31493.397651128205, 7793.934178824955]], dtype=object)"
      ]
     },
     "execution_count": 91,
     "metadata": {},
     "output_type": "execute_result"
    }
   ],
   "source": [
    "\n",
    "from joblib import Parallel, delayed\n",
    "import multiprocessing\n",
    "\n",
    "retLst = Parallel(n_jobs=multiprocessing.cpu_count())(delayed(select_genes)(g,grp[g],sgenes) for g in grp)\n",
    "np.concatenate([x for x in retLst if x is not None])"
   ]
  },
  {
   "cell_type": "code",
   "execution_count": 83,
   "metadata": {},
   "outputs": [
    {
     "data": {
      "text/plain": [
       "array([[8214.396743820524, 73369.39335825211],\n",
       "       [7588.396743820524, 74499.39335825211],\n",
       "       [8798.396743820524, 73897.39335825211],\n",
       "       ...,\n",
       "       [30586.397651128205, 8177.934178824955],\n",
       "       [30558.397651128205, 7430.934178824955],\n",
       "       [31493.397651128205, 7793.934178824955]], dtype=object)"
      ]
     },
     "execution_count": 83,
     "metadata": {},
     "output_type": "execute_result"
    }
   ],
   "source": []
  },
  {
   "cell_type": "code",
   "execution_count": null,
   "metadata": {},
   "outputs": [],
   "source": []
  }
 ],
 "metadata": {
  "kernelspec": {
   "display_name": "Python 3",
   "language": "python",
   "name": "python3"
  },
  "language_info": {
   "codemirror_mode": {
    "name": "ipython",
    "version": 3
   },
   "file_extension": ".py",
   "mimetype": "text/x-python",
   "name": "python",
   "nbconvert_exporter": "python",
   "pygments_lexer": "ipython3",
   "version": "3.8.5"
  }
 },
 "nbformat": 4,
 "nbformat_minor": 4
}
