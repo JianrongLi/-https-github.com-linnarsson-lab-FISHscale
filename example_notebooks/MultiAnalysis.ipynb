{
 "cells": [
  {
   "cell_type": "code",
   "execution_count": 1,
   "metadata": {},
   "outputs": [],
   "source": [
    "import sys\n",
    "import pandas as pd\n",
    "import os\n",
    "sys.path.append('/Users/admin/OneDrive - KI.SE/Projects')\n",
    "\n",
    "from FISHscale.utils import Dataset, MultiDataset\n",
    "\n",
    "%load_ext autoreload\n",
    "%autoreload 2"
   ]
  },
  {
   "cell_type": "markdown",
   "metadata": {},
   "source": [
    "# Load Directly from folder"
   ]
  },
  {
   "cell_type": "code",
   "execution_count": null,
   "metadata": {},
   "outputs": [],
   "source": [
    "# Include other_columns if you want your Dataset object to have .fov_num attrs or any other column\n",
    "MD = MultiDataset(gene_label='decoded_genes',other_columns=['fov_num'])\n",
    "MD.load_multi_data('../../EEL/Cancer/processed_data/')"
   ]
  },
  {
   "cell_type": "code",
   "execution_count": null,
   "metadata": {},
   "outputs": [],
   "source": [
    "#Include a list of attrs from each Dataset object that you will like to be plotted as different categories\n",
    "# at them moment all datasets will be loaded in memory and that will make plotting slower\n",
    "MD.visualize()"
   ]
  },
  {
   "cell_type": "markdown",
   "metadata": {},
   "source": [
    "# Load From individual PandasDataset objects"
   ]
  },
  {
   "cell_type": "code",
   "execution_count": 3,
   "metadata": {},
   "outputs": [],
   "source": [
    "# In case you have preloaded Dataset objects\n",
    "SL003 = Dataset('../../EEL/Cancer/AMEXP20210320_EEL_SL006/210413_17_10_56_AMEXP20210320_EEL_SL006_data_summary_simple_plotting.parquet',gene_label='decoded_genes',apply_offset=True)\n",
    "SL006 = Dataset('../../EEL/Cancer/processed_data/210413_19_25_19_JJEXP20210323_EEL_SL005_data_summary_simple_plotting.parquet',gene_label='decoded_genes',apply_offset=True)\n",
    "MD = MultiDataset()\n",
    "MD.load_datasets([SL006,SL003])\n"
   ]
  },
  {
   "cell_type": "code",
   "execution_count": 33,
   "metadata": {},
   "outputs": [
    {
     "name": "stdout",
     "output_type": "stream",
     "text": [
      "QApplication instance already exists: <PyQt5.QtWidgets.QApplication object at 0x7fb82660c4c0>\n",
      "MultiDataset\n",
      "../../EEL/Cancer/processed_data/210413_19_25_19_JJEXP20210323_EEL_SL005_data_summary_simple_plotting.parquet\n",
      "../../EEL/Cancer/AMEXP20210320_EEL_SL006/210413_17_10_56_AMEXP20210320_EEL_SL006_data_summary_simple_plotting.parquet\n",
      "Data Loaded\n",
      "(11713, 3)\n",
      "(8836, 3)\n",
      "(5303, 3)\n",
      "(19981, 3)\n",
      "(91472, 3)\n",
      "(13995, 3)\n",
      "(6914, 3)\n",
      "(18449, 3)\n"
     ]
    }
   ],
   "source": [
    "MD.visualize()"
   ]
  },
  {
   "cell_type": "code",
   "execution_count": null,
   "metadata": {},
   "outputs": [],
   "source": []
  }
 ],
 "metadata": {
  "kernelspec": {
   "display_name": "Python 3",
   "language": "python",
   "name": "python3"
  },
  "language_info": {
   "codemirror_mode": {
    "name": "ipython",
    "version": 3
   },
   "file_extension": ".py",
   "mimetype": "text/x-python",
   "name": "python",
   "nbconvert_exporter": "python",
   "pygments_lexer": "ipython3",
   "version": "3.8.5"
  }
 },
 "nbformat": 4,
 "nbformat_minor": 4
}
