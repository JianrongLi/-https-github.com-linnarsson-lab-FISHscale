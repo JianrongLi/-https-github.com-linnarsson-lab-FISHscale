{
 "cells": [
  {
   "cell_type": "code",
   "execution_count": 1,
   "metadata": {
    "collapsed": true
   },
   "outputs": [],
   "source": [
    "import random\n",
    "random.seed(24071992)\n",
    "import numpy as np\n",
    "np.random.seed(24071992)\n",
    "import matplotlib\n",
    "import matplotlib.pyplot as plt\n",
    "import scipy.spatial"
   ]
  },
  {
   "cell_type": "code",
   "execution_count": 2,
   "metadata": {},
   "outputs": [
    {
     "data": {
      "text/plain": [
       "<function scipy.spatial.kdtree.KDTree.sparse_distance_matrix>"
      ]
     },
     "execution_count": 2,
     "metadata": {},
     "output_type": "execute_result"
    }
   ],
   "source": [
    "import scipy\n",
    "scipy.spatial.KDTree.sparse_distance_matrix"
   ]
  },
  {
   "cell_type": "code",
   "execution_count": 3,
   "metadata": {
    "collapsed": true
   },
   "outputs": [],
   "source": [
    "%matplotlib inline "
   ]
  },
  {
   "cell_type": "markdown",
   "metadata": {},
   "source": [
    "# Random cells"
   ]
  },
  {
   "cell_type": "code",
   "execution_count": 4,
   "metadata": {
    "collapsed": true
   },
   "outputs": [],
   "source": [
    "centroid = np.random.rand(50,2)"
   ]
  },
  {
   "cell_type": "code",
   "execution_count": 5,
   "metadata": {},
   "outputs": [
    {
     "data": {
      "image/png": "[encoded data removed]",
      "text/plain": [
       "<matplotlib.figure.Figure at 0x7f258a6912e8>"
      ]
     },
     "metadata": {},
     "output_type": "display_data"
    }
   ],
   "source": [
    "def cell_scatter(arr2D, color='blue'):\n",
    "    for i in range(len(arr2D)):\n",
    "        plt.scatter(arr2D[i][0], arr2D[i][1], c=color)\n",
    "        \n",
    "cell_scatter(centroid, 'red')"
   ]
  },
  {
   "cell_type": "code",
   "execution_count": null,
   "metadata": {},
   "outputs": [],
   "source": [
    "cloud = 20\n",
    "dots = np.zeros([len(centroid)*cloud, 2])\n",
    "for i, p in enumerate(centroid):\n",
    "    for n in range(cloud):\n",
    "        pos = i*cloud + n\n",
    "        x_shift = np.random.normal(0, scale=0.02)\n",
    "        y_shift = np.random.normal(0, scale=0.02)\n",
    "        dots[pos] = p[0]+x_shift, p[1]+y_shift\n",
    "\n",
    "cell_scatter(dots)\n",
    "cell_scatter(centroid, color='red')"
   ]
  },
  {
   "cell_type": "code",
   "execution_count": null,
   "metadata": {},
   "outputs": [],
   "source": [
    "dist = scipy.spatial.distance.pdist(centroid)\n",
    "plt.hist(dist,bins=200)"
   ]
  },
  {
   "cell_type": "markdown",
   "metadata": {},
   "source": [
    "# Cells in a grid"
   ]
  },
  {
   "cell_type": "code",
   "execution_count": 6,
   "metadata": {},
   "outputs": [
    {
     "name": "stdout",
     "output_type": "stream",
     "text": [
      "[ 0.  0.]\n",
      "[ 0.  1.]\n",
      "[ 0.  2.]\n",
      "[ 0.  3.]\n",
      "[ 1.  0.]\n",
      "[ 1.  1.]\n",
      "[ 1.  2.]\n",
      "[ 1.  3.]\n",
      "[ 2.  0.]\n",
      "[ 2.  1.]\n",
      "[ 2.  2.]\n",
      "[ 2.  3.]\n",
      "[ 3.  0.]\n",
      "[ 3.  1.]\n",
      "[ 3.  2.]\n",
      "[ 3.  3.]\n"
     ]
    },
    {
     "data": {
      "image/png": "[encoded data removed]",
      "text/plain": [
       "<matplotlib.figure.Figure at 0x7f255ceaa588>"
      ]
     },
     "metadata": {},
     "output_type": "display_data"
    }
   ],
   "source": [
    "cloud = 200\n",
    "grid_c = np.zeros([16, 2])\n",
    "\n",
    "for i, p in enumerate(grid_c):\n",
    "    x = int(i/4)\n",
    "    y = [0,1,2,3,0,1,2,3,0,1,2,3,0,1,2,3]\n",
    "    y = y[i]\n",
    "    grid_c[i] = x,y\n",
    "\n",
    "    \n",
    "grid_p = np.zeros([len(grid_c)*cloud, 2])\n",
    "for i, p in enumerate(grid_c):\n",
    "    print(p)\n",
    "    for n in range(cloud):\n",
    "        pos = i*cloud + n\n",
    "        x_shift = np.random.normal(0, scale=0.1)\n",
    "        y_shift = np.random.normal(0, scale=0.1)\n",
    "        grid_p[pos] = p[0]+x_shift, p[1]+y_shift\n",
    "    \n",
    "cell_scatter(grid_p)\n",
    "cell_scatter(grid_c, color='red')"
   ]
  },
  {
   "cell_type": "code",
   "execution_count": null,
   "metadata": {},
   "outputs": [],
   "source": [
    "dist = scipy.spatial.distance.pdist(grid_p, )\n",
    "plt.hist(dist,bins=100)"
   ]
  },
  {
   "cell_type": "code",
   "execution_count": 7,
   "metadata": {
    "collapsed": true
   },
   "outputs": [],
   "source": [
    "#scipy.spatial.KDTree.sparse_distance_matrix()\n",
    "grid_p_tree = scipy.spatial.KDTree(grid_p)"
   ]
  },
  {
   "cell_type": "code",
   "execution_count": 8,
   "metadata": {},
   "outputs": [
    {
     "name": "stdout",
     "output_type": "stream",
     "text": [
      "[ 0.   0.1  0.2  0.3  0.4  0.5  0.6  0.7  0.8  0.9  1.   1.1  1.2  1.3  1.4\n",
      "  1.5  1.6  1.7  1.8  1.9  2.   2.1  2.2  2.3  2.4  2.5  2.6  2.7  2.8  2.9\n",
      "  3.   3.1  3.2  3.3  3.4  3.5  3.6  3.7  3.8  3.9  4. ]\n"
     ]
    },
    {
     "data": {
      "text/plain": [
       "<matplotlib.collections.PathCollection at 0x7f255a6c89b0>"
      ]
     },
     "execution_count": 8,
     "metadata": {},
     "output_type": "execute_result"
    },
    {
     "data": {
      "image/png": "[encoded data removed]",
      "text/plain": [
       "<matplotlib.figure.Figure at 0x7f255a7498d0>"
      ]
     },
     "metadata": {},
     "output_type": "display_data"
    }
   ],
   "source": [
    "interval = np.linspace(0,4,41)\n",
    "print(interval)\n",
    "plt.scatter(interval, grid_p_tree.count_neighbors(grid_p_tree, interval))\n",
    "#Logically, the KDTree has more neighbours if you increase the range.\n",
    "#You see the same jumps as with the above histogram"
   ]
  },
  {
   "cell_type": "markdown",
   "metadata": {},
   "source": [
    "# Sparse distance matrix"
   ]
  },
  {
   "cell_type": "code",
   "execution_count": 44,
   "metadata": {},
   "outputs": [
    {
     "data": {
      "text/plain": [
       "<3200x3200 sparse matrix of type '<class 'numpy.float64'>'\n",
       "\twith 4698998 stored elements in Dictionary Of Keys format>"
      ]
     },
     "execution_count": 44,
     "metadata": {},
     "output_type": "execute_result"
    }
   ],
   "source": [
    "grid_p_sparse = grid_p_tree.sparse_distance_matrix(grid_p_tree, max_distance=2)\n",
    "grid_p_sparse"
   ]
  },
  {
   "cell_type": "code",
   "execution_count": 45,
   "metadata": {},
   "outputs": [
    {
     "data": {
      "text/plain": [
       "(array([   6496.,   19160.,   30330.,   40512.,   47516.,   52444.,\n",
       "          54608.,   54668.,   52634.,   48082.,   44074.,   38044.,\n",
       "          32622.,   26990.,   22254.,   17742.,   13358.,   10314.,\n",
       "           7486.,    5502.,    3938.,    2790.,    1932.,    1334.,\n",
       "            946.,     738.,     618.,     776.,     956.,    1334.,\n",
       "           1932.,    2954.,    3992.,    5808.,    8218.,   11076.,\n",
       "          14762.,   19332.,   24830.,   31540.,   38524.,   47686.,\n",
       "          56750.,   65692.,   75354.,   85016.,   93006.,  100220.,\n",
       "         105344.,  109842.,  111226.,  110212.,  107662.,  103292.,\n",
       "          97946.,   91940.,   84958.,   79010.,   73436.,   68522.,\n",
       "          65482.,   64190.,   63916.,   65272.,   67312.,   70246.,\n",
       "          74796.,   77660.,   81642.,   83248.,   84310.,   82730.,\n",
       "          81382.,   78482.,   72992.,   67194.,   60664.,   54248.,\n",
       "          47204.,   40156.,   34500.,   28798.,   24788.,   21204.,\n",
       "          19030.,   18006.,   18024.,   19706.,   22308.,   25474.,\n",
       "          29936.,   36208.,   41898.,   49634.,   57046.,   65066.,\n",
       "          72180.,   80180.,   87350.,   94256.]),\n",
       " array([  2.67525080e-04,   2.02648407e-02,   4.02621564e-02,\n",
       "          6.02594720e-02,   8.02567877e-02,   1.00254103e-01,\n",
       "          1.20251419e-01,   1.40248735e-01,   1.60246050e-01,\n",
       "          1.80243366e-01,   2.00240682e-01,   2.20237997e-01,\n",
       "          2.40235313e-01,   2.60232628e-01,   2.80229944e-01,\n",
       "          3.00227260e-01,   3.20224575e-01,   3.40221891e-01,\n",
       "          3.60219207e-01,   3.80216522e-01,   4.00213838e-01,\n",
       "          4.20211154e-01,   4.40208469e-01,   4.60205785e-01,\n",
       "          4.80203101e-01,   5.00200416e-01,   5.20197732e-01,\n",
       "          5.40195047e-01,   5.60192363e-01,   5.80189679e-01,\n",
       "          6.00186994e-01,   6.20184310e-01,   6.40181626e-01,\n",
       "          6.60178941e-01,   6.80176257e-01,   7.00173573e-01,\n",
       "          7.20170888e-01,   7.40168204e-01,   7.60165519e-01,\n",
       "          7.80162835e-01,   8.00160151e-01,   8.20157466e-01,\n",
       "          8.40154782e-01,   8.60152098e-01,   8.80149413e-01,\n",
       "          9.00146729e-01,   9.20144045e-01,   9.40141360e-01,\n",
       "          9.60138676e-01,   9.80135992e-01,   1.00013331e+00,\n",
       "          1.02013062e+00,   1.04012794e+00,   1.06012525e+00,\n",
       "          1.08012257e+00,   1.10011989e+00,   1.12011720e+00,\n",
       "          1.14011452e+00,   1.16011183e+00,   1.18010915e+00,\n",
       "          1.20010646e+00,   1.22010378e+00,   1.24010109e+00,\n",
       "          1.26009841e+00,   1.28009573e+00,   1.30009304e+00,\n",
       "          1.32009036e+00,   1.34008767e+00,   1.36008499e+00,\n",
       "          1.38008230e+00,   1.40007962e+00,   1.42007694e+00,\n",
       "          1.44007425e+00,   1.46007157e+00,   1.48006888e+00,\n",
       "          1.50006620e+00,   1.52006351e+00,   1.54006083e+00,\n",
       "          1.56005815e+00,   1.58005546e+00,   1.60005278e+00,\n",
       "          1.62005009e+00,   1.64004741e+00,   1.66004472e+00,\n",
       "          1.68004204e+00,   1.70003935e+00,   1.72003667e+00,\n",
       "          1.74003399e+00,   1.76003130e+00,   1.78002862e+00,\n",
       "          1.80002593e+00,   1.82002325e+00,   1.84002056e+00,\n",
       "          1.86001788e+00,   1.88001520e+00,   1.90001251e+00,\n",
       "          1.92000983e+00,   1.94000714e+00,   1.96000446e+00,\n",
       "          1.98000177e+00,   1.99999909e+00]),\n",
       " <a list of 100 Patch objects>)"
      ]
     },
     "execution_count": 45,
     "metadata": {},
     "output_type": "execute_result"
    },
    {
     "data": {
      "image/png": "[encoded data removed]",
      "text/plain": [
       "<matplotlib.figure.Figure at 0x7f2521c0e2b0>"
      ]
     },
     "metadata": {},
     "output_type": "display_data"
    }
   ],
   "source": [
    "sparse_values = np.array(list(grid_p_sparse.values()))\n",
    "plt.hist(sparse_values, bins=100)"
   ]
  },
  {
   "cell_type": "code",
   "execution_count": 20,
   "metadata": {
    "collapsed": true
   },
   "outputs": [],
   "source": [
    "# http://stackoverflow.com/questions/10143905/python-two-curve-gaussian-fitting-with-non-linear-least-squares\n",
    "from sklearn import mixture\n",
    "import matplotlib.pyplot\n",
    "import matplotlib.mlab\n",
    "import numpy as np"
   ]
  },
  {
   "cell_type": "code",
   "execution_count": 51,
   "metadata": {},
   "outputs": [
    {
     "data": {
      "text/plain": [
       "[<matplotlib.lines.Line2D at 0x7f24e69fdf28>]"
      ]
     },
     "execution_count": 51,
     "metadata": {},
     "output_type": "execute_result"
    },
    {
     "data": {
      "image/png": "[encoded data removed]",
      "text/plain": [
       "<matplotlib.figure.Figure at 0x7f24e6f05d30>"
      ]
     },
     "metadata": {},
     "output_type": "display_data"
    }
   ],
   "source": [
    "\n",
    "clf = mixture.GaussianMixture(n_components=3, covariance_type='full')\n",
    "data = np.reshape(sparse_values, (len(sparse_values),1))\n",
    "clf.fit(data)\n",
    "m1, m2, m3 = clf.means_\n",
    "w1, w2, w3= clf.weights_\n",
    "c1, c2, c3 = clf.covariances_\n",
    "histdist = matplotlib.pyplot.hist(data, 100, normed=True)\n",
    "plotgauss1 = lambda x: plt.plot(x,w1*matplotlib.mlab.normpdf(x,m1,np.sqrt(c1))[0], linewidth=3)\n",
    "plotgauss2 = lambda x: plt.plot(x,w2*matplotlib.mlab.normpdf(x,m2,np.sqrt(c2))[0], linewidth=3)\n",
    "plotgauss3 = lambda x: plt.plot(x,w3*matplotlib.mlab.normpdf(x,m3,np.sqrt(c3))[0], linewidth=3)\n",
    "plotgauss1(histdist[1])\n",
    "plotgauss2(histdist[1])\n",
    "plotgauss3(histdist[1])"
   ]
  },
  {
   "cell_type": "code",
   "execution_count": 53,
   "metadata": {},
   "outputs": [
    {
     "data": {
      "text/plain": [
       "[<matplotlib.lines.Line2D at 0x7f24e6e17278>]"
      ]
     },
     "execution_count": 53,
     "metadata": {},
     "output_type": "execute_result"
    },
    {
     "data": {
      "image/png": "[encoded data removed]",
      "text/plain": [
       "<matplotlib.figure.Figure at 0x7f24e6a4ebe0>"
      ]
     },
     "metadata": {},
     "output_type": "display_data"
    }
   ],
   "source": [
    "\n",
    "clf = mixture.GaussianMixture(n_components=4, covariance_type='full')\n",
    "data = np.reshape(sparse_values, (len(sparse_values),1))\n",
    "clf.fit(data)\n",
    "m1, m2, m3, m4 = clf.means_\n",
    "w1, w2, w3, w4= clf.weights_\n",
    "c1, c2, c3, c4 = clf.covariances_\n",
    "histdist = matplotlib.pyplot.hist(data, 100, normed=True)\n",
    "plotgauss1 = lambda x: plt.plot(x,w1*matplotlib.mlab.normpdf(x,m1,np.sqrt(c1))[0], linewidth=3)\n",
    "plotgauss2 = lambda x: plt.plot(x,w2*matplotlib.mlab.normpdf(x,m2,np.sqrt(c2))[0], linewidth=3)\n",
    "plotgauss3 = lambda x: plt.plot(x,w3*matplotlib.mlab.normpdf(x,m3,np.sqrt(c3))[0], linewidth=3)\n",
    "plotgauss4 = lambda x: plt.plot(x,w4*matplotlib.mlab.normpdf(x,m4,np.sqrt(c4))[0], linewidth=3)\n",
    "plotgauss1(histdist[1])\n",
    "plotgauss2(histdist[1])\n",
    "plotgauss3(histdist[1])\n",
    "plotgauss4(histdist[1])"
   ]
  },
  {
   "cell_type": "code",
   "execution_count": null,
   "metadata": {
    "collapsed": true
   },
   "outputs": [],
   "source": []
  },
  {
   "cell_type": "code",
   "execution_count": null,
   "metadata": {
    "collapsed": true
   },
   "outputs": [],
   "source": []
  },
  {
   "cell_type": "code",
   "execution_count": null,
   "metadata": {
    "collapsed": true
   },
   "outputs": [],
   "source": []
  },
  {
   "cell_type": "code",
   "execution_count": null,
   "metadata": {
    "collapsed": true
   },
   "outputs": [],
   "source": []
  },
  {
   "cell_type": "code",
   "execution_count": null,
   "metadata": {
    "collapsed": true
   },
   "outputs": [],
   "source": []
  },
  {
   "cell_type": "code",
   "execution_count": null,
   "metadata": {
    "collapsed": true
   },
   "outputs": [],
   "source": []
  },
  {
   "cell_type": "code",
   "execution_count": null,
   "metadata": {
    "collapsed": true
   },
   "outputs": [],
   "source": []
  },
  {
   "cell_type": "code",
   "execution_count": null,
   "metadata": {
    "collapsed": true
   },
   "outputs": [],
   "source": []
  },
  {
   "cell_type": "code",
   "execution_count": null,
   "metadata": {
    "collapsed": true
   },
   "outputs": [],
   "source": []
  },
  {
   "cell_type": "code",
   "execution_count": null,
   "metadata": {
    "collapsed": true
   },
   "outputs": [],
   "source": []
  },
  {
   "cell_type": "code",
   "execution_count": null,
   "metadata": {
    "collapsed": true
   },
   "outputs": [],
   "source": []
  }
 ],
 "metadata": {
  "kernelspec": {
   "display_name": "Python 3",
   "language": "python",
   "name": "python3"
  },
  "language_info": {
   "codemirror_mode": {
    "name": "ipython",
    "version": 3
   },
   "file_extension": ".py",
   "mimetype": "text/x-python",
   "name": "python",
   "nbconvert_exporter": "python",
   "pygments_lexer": "ipython3",
   "version": "3.5.3"
  }
 },
 "nbformat": 4,
 "nbformat_minor": 1
}
