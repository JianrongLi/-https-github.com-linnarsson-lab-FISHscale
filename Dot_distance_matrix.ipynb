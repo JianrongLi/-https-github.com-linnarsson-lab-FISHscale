{
 "cells": [
  {
   "cell_type": "code",
   "execution_count": 1,
   "metadata": {
    "collapsed": true
   },
   "outputs": [],
   "source": [
    "import random\n",
    "random.seed(24071992)\n",
    "import numpy as np\n",
    "np.random.seed(24071992)\n",
    "import matplotlib\n",
    "import matplotlib.pyplot as plt\n",
    "import scipy.spatial"
   ]
  },
  {
   "cell_type": "code",
   "execution_count": 2,
   "metadata": {},
   "outputs": [
    {
     "data": {
      "text/plain": [
       "<function scipy.spatial.kdtree.KDTree.sparse_distance_matrix>"
      ]
     },
     "execution_count": 2,
     "metadata": {},
     "output_type": "execute_result"
    }
   ],
   "source": [
    "import scipy\n",
    "scipy.spatial.KDTree.sparse_distance_matrix"
   ]
  },
  {
   "cell_type": "code",
   "execution_count": 3,
   "metadata": {
    "collapsed": true
   },
   "outputs": [],
   "source": [
    "%matplotlib inline "
   ]
  },
  {
   "cell_type": "markdown",
   "metadata": {},
   "source": [
    "# Random cells"
   ]
  },
  {
   "cell_type": "code",
   "execution_count": 4,
   "metadata": {
    "collapsed": true
   },
   "outputs": [],
   "source": [
    "centroid = np.random.rand(50,2)"
   ]
  },
  {
   "cell_type": "code",
   "execution_count": 5,
   "metadata": {},
   "outputs": [
    {
     "data": {
      "image/png": "[encoded data removed]",
      "text/plain": [
       "<matplotlib.figure.Figure at 0x7f0927315358>"
      ]
     },
     "metadata": {},
     "output_type": "display_data"
    }
   ],
   "source": [
    "def cell_scatter(arr2D, color='blue'):\n",
    "    for i in range(len(arr2D)):\n",
    "        plt.scatter(arr2D[i][0], arr2D[i][1], c=color)\n",
    "        \n",
    "cell_scatter(centroid, 'red')"
   ]
  },
  {
   "cell_type": "code",
   "execution_count": 6,
   "metadata": {},
   "outputs": [
    {
     "data": {
      "image/png": "[encoded data removed]",
      "text/plain": [
       "<matplotlib.figure.Figure at 0x7f0927372e10>"
      ]
     },
     "metadata": {},
     "output_type": "display_data"
    }
   ],
   "source": [
    "cloud = 20\n",
    "dots = np.zeros([len(centroid)*cloud, 2])\n",
    "for i, p in enumerate(centroid):\n",
    "    for n in range(cloud):\n",
    "        pos = i*cloud + n\n",
    "        x_shift = np.random.normal(0, scale=0.02)\n",
    "        y_shift = np.random.normal(0, scale=0.02)\n",
    "        dots[pos] = p[0]+x_shift, p[1]+y_shift\n",
    "\n",
    "cell_scatter(dots)\n",
    "cell_scatter(centroid, color='red')"
   ]
  },
  {
   "cell_type": "code",
   "execution_count": 7,
   "metadata": {},
   "outputs": [
    {
     "data": {
      "text/plain": [
       "(array([  3.,   2.,   0.,   1.,   4.,   3.,   5.,   4.,   1.,   6.,   2.,\n",
       "          2.,  10.,   4.,  10.,   3.,   3.,   6.,   6.,   6.,   3.,   9.,\n",
       "         10.,   3.,   5.,   7.,   6.,  11.,   9.,   9.,  10.,   7.,  10.,\n",
       "          9.,   6.,   5.,   8.,   5.,   6.,  15.,  10.,   7.,   7.,   7.,\n",
       "          4.,   7.,   9.,  13.,  13.,  10.,  11.,  10.,   8.,   9.,  13.,\n",
       "         11.,   9.,   9.,  10.,  12.,  10.,  10.,   7.,   7.,  12.,   5.,\n",
       "         15.,  11.,   7.,   8.,   8.,  10.,  17.,   5.,   9.,   5.,  19.,\n",
       "          7.,   4.,  14.,  15.,  14.,  10.,  12.,  11.,   6.,  13.,   8.,\n",
       "          8.,   8.,  13.,   8.,  10.,   8.,   7.,  10.,  13.,   8.,   9.,\n",
       "          9.,  13.,  11.,   7.,   6.,   8.,   7.,   8.,   9.,  10.,  11.,\n",
       "          9.,   6.,   8.,   7.,  11.,   8.,   8.,   8.,   7.,   6.,  11.,\n",
       "          9.,   4.,   9.,   8.,  14.,   9.,   7.,   5.,   8.,   5.,   9.,\n",
       "         10.,   2.,   6.,   7.,   5.,   3.,   8.,   5.,   9.,   6.,   5.,\n",
       "          7.,   7.,   3.,   2.,   4.,   3.,   2.,   5.,   1.,   4.,   2.,\n",
       "          1.,   5.,   2.,   2.,   2.,   0.,   0.,   2.,   1.,   2.,   1.,\n",
       "          0.,   0.,   0.,   1.,   3.,   2.,   1.,   2.,   1.,   0.,   1.,\n",
       "          0.,   2.,   2.,   0.,   2.,   0.,   0.,   2.,   0.,   0.,   0.,\n",
       "          0.,   0.,   1.,   0.,   0.,   0.,   0.,   0.,   0.,   0.,   1.,\n",
       "          0.,   1.]),\n",
       " array([ 0.02766027,  0.03366515,  0.03967004,  0.04567493,  0.05167981,\n",
       "         0.0576847 ,  0.06368959,  0.06969447,  0.07569936,  0.08170425,\n",
       "         0.08770913,  0.09371402,  0.09971891,  0.10572379,  0.11172868,\n",
       "         0.11773357,  0.12373845,  0.12974334,  0.13574822,  0.14175311,\n",
       "         0.147758  ,  0.15376288,  0.15976777,  0.16577266,  0.17177754,\n",
       "         0.17778243,  0.18378732,  0.1897922 ,  0.19579709,  0.20180198,\n",
       "         0.20780686,  0.21381175,  0.21981664,  0.22582152,  0.23182641,\n",
       "         0.2378313 ,  0.24383618,  0.24984107,  0.25584596,  0.26185084,\n",
       "         0.26785573,  0.27386062,  0.2798655 ,  0.28587039,  0.29187528,\n",
       "         0.29788016,  0.30388505,  0.30988994,  0.31589482,  0.32189971,\n",
       "         0.3279046 ,  0.33390948,  0.33991437,  0.34591926,  0.35192414,\n",
       "         0.35792903,  0.36393392,  0.3699388 ,  0.37594369,  0.38194858,\n",
       "         0.38795346,  0.39395835,  0.39996324,  0.40596812,  0.41197301,\n",
       "         0.4179779 ,  0.42398278,  0.42998767,  0.43599256,  0.44199744,\n",
       "         0.44800233,  0.45400722,  0.4600121 ,  0.46601699,  0.47202188,\n",
       "         0.47802676,  0.48403165,  0.49003654,  0.49604142,  0.50204631,\n",
       "         0.5080512 ,  0.51405608,  0.52006097,  0.52606586,  0.53207074,\n",
       "         0.53807563,  0.54408052,  0.5500854 ,  0.55609029,  0.56209518,\n",
       "         0.56810006,  0.57410495,  0.58010984,  0.58611472,  0.59211961,\n",
       "         0.5981245 ,  0.60412938,  0.61013427,  0.61613916,  0.62214404,\n",
       "         0.62814893,  0.63415382,  0.6401587 ,  0.64616359,  0.65216848,\n",
       "         0.65817336,  0.66417825,  0.67018314,  0.67618802,  0.68219291,\n",
       "         0.6881978 ,  0.69420268,  0.70020757,  0.70621246,  0.71221734,\n",
       "         0.71822223,  0.72422712,  0.730232  ,  0.73623689,  0.74224178,\n",
       "         0.74824666,  0.75425155,  0.76025644,  0.76626132,  0.77226621,\n",
       "         0.7782711 ,  0.78427598,  0.79028087,  0.79628576,  0.80229064,\n",
       "         0.80829553,  0.81430042,  0.8203053 ,  0.82631019,  0.83231508,\n",
       "         0.83831996,  0.84432485,  0.85032974,  0.85633462,  0.86233951,\n",
       "         0.8683444 ,  0.87434928,  0.88035417,  0.88635906,  0.89236394,\n",
       "         0.89836883,  0.90437372,  0.9103786 ,  0.91638349,  0.92238838,\n",
       "         0.92839326,  0.93439815,  0.94040304,  0.94640792,  0.95241281,\n",
       "         0.9584177 ,  0.96442258,  0.97042747,  0.97643236,  0.98243724,\n",
       "         0.98844213,  0.99444702,  1.0004519 ,  1.00645679,  1.01246168,\n",
       "         1.01846656,  1.02447145,  1.03047634,  1.03648122,  1.04248611,\n",
       "         1.048491  ,  1.05449588,  1.06050077,  1.06650566,  1.07251054,\n",
       "         1.07851543,  1.08452032,  1.0905252 ,  1.09653009,  1.10253498,\n",
       "         1.10853986,  1.11454475,  1.12054964,  1.12655452,  1.13255941,\n",
       "         1.1385643 ,  1.14456918,  1.15057407,  1.15657896,  1.16258384,\n",
       "         1.16858873,  1.17459362,  1.1805985 ,  1.18660339,  1.19260828,\n",
       "         1.19861316,  1.20461805,  1.21062294,  1.21662782,  1.22263271,\n",
       "         1.2286376 ]),\n",
       " <a list of 200 Patch objects>)"
      ]
     },
     "execution_count": 7,
     "metadata": {},
     "output_type": "execute_result"
    },
    {
     "data": {
      "image/png": "[encoded data removed]",
      "text/plain": [
       "<matplotlib.figure.Figure at 0x7f092722e780>"
      ]
     },
     "metadata": {},
     "output_type": "display_data"
    }
   ],
   "source": [
    "dist = scipy.spatial.distance.pdist(centroid)\n",
    "plt.hist(dist,bins=200)"
   ]
  },
  {
   "cell_type": "markdown",
   "metadata": {},
   "source": [
    "# Cells in a grid"
   ]
  },
  {
   "cell_type": "code",
   "execution_count": 8,
   "metadata": {},
   "outputs": [
    {
     "name": "stdout",
     "output_type": "stream",
     "text": [
      "[ 0.  0.]\n",
      "[ 0.  1.]\n",
      "[ 0.  2.]\n",
      "[ 0.  3.]\n",
      "[ 1.  0.]\n",
      "[ 1.  1.]\n",
      "[ 1.  2.]\n",
      "[ 1.  3.]\n",
      "[ 2.  0.]\n",
      "[ 2.  1.]\n",
      "[ 2.  2.]\n",
      "[ 2.  3.]\n",
      "[ 3.  0.]\n",
      "[ 3.  1.]\n",
      "[ 3.  2.]\n",
      "[ 3.  3.]\n"
     ]
    },
    {
     "data": {
      "image/png": "[encoded data removed]",
      "text/plain": [
       "<matplotlib.figure.Figure at 0x7f08f8e7fa20>"
      ]
     },
     "metadata": {},
     "output_type": "display_data"
    }
   ],
   "source": [
    "cloud = 200\n",
    "grid_c = np.zeros([16, 2])\n",
    "\n",
    "for i, p in enumerate(grid_c):\n",
    "    x = int(i/4)\n",
    "    y = [0,1,2,3,0,1,2,3,0,1,2,3,0,1,2,3]\n",
    "    y = y[i]\n",
    "    grid_c[i] = x,y\n",
    "\n",
    "    \n",
    "grid_p = np.zeros([len(grid_c)*cloud, 2])\n",
    "for i, p in enumerate(grid_c):\n",
    "    print(p)\n",
    "    for n in range(cloud):\n",
    "        pos = i*cloud + n\n",
    "        x_shift = np.random.normal(0, scale=0.1)\n",
    "        y_shift = np.random.normal(0, scale=0.1)\n",
    "        grid_p[pos] = p[0]+x_shift, p[1]+y_shift\n",
    "    \n",
    "cell_scatter(grid_p)\n",
    "cell_scatter(grid_c, color='red')"
   ]
  },
  {
   "cell_type": "code",
   "execution_count": 9,
   "metadata": {},
   "outputs": [
    {
     "data": {
      "text/plain": [
       "(array([  1.79170000e+04,   4.75340000e+04,   6.31100000e+04,\n",
       "          6.29920000e+04,   5.09040000e+04,   3.51950000e+04,\n",
       "          2.12430000e+04,   1.11430000e+04,   5.07500000e+03,\n",
       "          2.17500000e+03,   9.61000000e+02,   8.44000000e+02,\n",
       "          1.63600000e+03,   4.16800000e+03,   9.56000000e+03,\n",
       "          1.95230000e+04,   3.53120000e+04,   5.80190000e+04,\n",
       "          8.33260000e+04,   1.08487000e+05,   1.26609000e+05,\n",
       "          1.31966000e+05,   1.23330000e+05,   1.06880000e+05,\n",
       "          8.94690000e+04,   7.77330000e+04,   7.56830000e+04,\n",
       "          8.25790000e+04,   9.20730000e+04,   9.87880000e+04,\n",
       "          9.57670000e+04,   8.45840000e+04,   6.71870000e+04,\n",
       "          4.85310000e+04,   3.27030000e+04,   2.34580000e+04,\n",
       "          2.21160000e+04,   2.92300000e+04,   4.32500000e+04,\n",
       "          6.21970000e+04,   8.34380000e+04,   1.04982000e+05,\n",
       "          1.23968000e+05,   1.38417000e+05,   1.49037000e+05,\n",
       "          1.56122000e+05,   1.55477000e+05,   1.45544000e+05,\n",
       "          1.25907000e+05,   9.90300000e+04,   7.09460000e+04,\n",
       "          4.59410000e+04,   2.83190000e+04,   1.87660000e+04,\n",
       "          1.61260000e+04,   2.00150000e+04,   2.88860000e+04,\n",
       "          4.11080000e+04,   5.49430000e+04,   6.72830000e+04,\n",
       "          7.74730000e+04,   8.58370000e+04,   9.18640000e+04,\n",
       "          9.70480000e+04,   9.94310000e+04,   9.73540000e+04,\n",
       "          9.07080000e+04,   7.93910000e+04,   6.55690000e+04,\n",
       "          4.96790000e+04,   3.77170000e+04,   3.11890000e+04,\n",
       "          3.06640000e+04,   3.48040000e+04,   4.02820000e+04,\n",
       "          4.35740000e+04,   4.29120000e+04,   3.74800000e+04,\n",
       "          2.96420000e+04,   2.10100000e+04,   1.36190000e+04,\n",
       "          7.89000000e+03,   4.58200000e+03,   3.17400000e+03,\n",
       "          3.47500000e+03,   4.98700000e+03,   6.87800000e+03,\n",
       "          9.14600000e+03,   1.03710000e+04,   1.06080000e+04,\n",
       "          9.71100000e+03,   7.95500000e+03,   6.19800000e+03,\n",
       "          4.06900000e+03,   2.45700000e+03,   1.28800000e+03,\n",
       "          5.54000000e+02,   2.16000000e+02,   6.90000000e+01,\n",
       "          1.30000000e+01]),\n",
       " array([  2.39222238e-04,   4.77848557e-02,   9.53304891e-02,\n",
       "          1.42876123e-01,   1.90421756e-01,   2.37967389e-01,\n",
       "          2.85513023e-01,   3.33058656e-01,   3.80604290e-01,\n",
       "          4.28149923e-01,   4.75695557e-01,   5.23241190e-01,\n",
       "          5.70786823e-01,   6.18332457e-01,   6.65878090e-01,\n",
       "          7.13423724e-01,   7.60969357e-01,   8.08514991e-01,\n",
       "          8.56060624e-01,   9.03606257e-01,   9.51151891e-01,\n",
       "          9.98697524e-01,   1.04624316e+00,   1.09378879e+00,\n",
       "          1.14133442e+00,   1.18888006e+00,   1.23642569e+00,\n",
       "          1.28397132e+00,   1.33151696e+00,   1.37906259e+00,\n",
       "          1.42660823e+00,   1.47415386e+00,   1.52169949e+00,\n",
       "          1.56924513e+00,   1.61679076e+00,   1.66433639e+00,\n",
       "          1.71188203e+00,   1.75942766e+00,   1.80697329e+00,\n",
       "          1.85451893e+00,   1.90206456e+00,   1.94961019e+00,\n",
       "          1.99715583e+00,   2.04470146e+00,   2.09224709e+00,\n",
       "          2.13979273e+00,   2.18733836e+00,   2.23488399e+00,\n",
       "          2.28242963e+00,   2.32997526e+00,   2.37752089e+00,\n",
       "          2.42506653e+00,   2.47261216e+00,   2.52015779e+00,\n",
       "          2.56770343e+00,   2.61524906e+00,   2.66279469e+00,\n",
       "          2.71034033e+00,   2.75788596e+00,   2.80543159e+00,\n",
       "          2.85297723e+00,   2.90052286e+00,   2.94806850e+00,\n",
       "          2.99561413e+00,   3.04315976e+00,   3.09070540e+00,\n",
       "          3.13825103e+00,   3.18579666e+00,   3.23334230e+00,\n",
       "          3.28088793e+00,   3.32843356e+00,   3.37597920e+00,\n",
       "          3.42352483e+00,   3.47107046e+00,   3.51861610e+00,\n",
       "          3.56616173e+00,   3.61370736e+00,   3.66125300e+00,\n",
       "          3.70879863e+00,   3.75634426e+00,   3.80388990e+00,\n",
       "          3.85143553e+00,   3.89898116e+00,   3.94652680e+00,\n",
       "          3.99407243e+00,   4.04161806e+00,   4.08916370e+00,\n",
       "          4.13670933e+00,   4.18425496e+00,   4.23180060e+00,\n",
       "          4.27934623e+00,   4.32689186e+00,   4.37443750e+00,\n",
       "          4.42198313e+00,   4.46952877e+00,   4.51707440e+00,\n",
       "          4.56462003e+00,   4.61216567e+00,   4.65971130e+00,\n",
       "          4.70725693e+00,   4.75480257e+00]),\n",
       " <a list of 100 Patch objects>)"
      ]
     },
     "execution_count": 9,
     "metadata": {},
     "output_type": "execute_result"
    },
    {
     "data": {
      "image/png": "[encoded data removed]",
      "text/plain": [
       "<matplotlib.figure.Figure at 0x7f08f8ecff98>"
      ]
     },
     "metadata": {},
     "output_type": "display_data"
    }
   ],
   "source": [
    "dist = scipy.spatial.distance.pdist(grid_p, )\n",
    "plt.hist(dist,bins=100)"
   ]
  },
  {
   "cell_type": "code",
   "execution_count": 10,
   "metadata": {
    "collapsed": true
   },
   "outputs": [],
   "source": [
    "#scipy.spatial.KDTree.sparse_distance_matrix()\n",
    "grid_p_tree = scipy.spatial.KDTree(grid_p)"
   ]
  },
  {
   "cell_type": "code",
   "execution_count": 11,
   "metadata": {},
   "outputs": [
    {
     "name": "stdout",
     "output_type": "stream",
     "text": [
      "[ 0.   0.1  0.2  0.3  0.4  0.5  0.6  0.7  0.8  0.9  1.   1.1  1.2  1.3  1.4\n",
      "  1.5  1.6  1.7  1.8  1.9  2.   2.1  2.2  2.3  2.4  2.5  2.6  2.7  2.8  2.9\n",
      "  3.   3.1  3.2  3.3  3.4  3.5  3.6  3.7  3.8  3.9  4. ]\n"
     ]
    },
    {
     "data": {
      "text/plain": [
       "<matplotlib.collections.PathCollection at 0x7f08f72a2be0>"
      ]
     },
     "execution_count": 11,
     "metadata": {},
     "output_type": "execute_result"
    },
    {
     "data": {
      "image/png": "[encoded data removed]",
      "text/plain": [
       "<matplotlib.figure.Figure at 0x7f08f8ee1f98>"
      ]
     },
     "metadata": {},
     "output_type": "display_data"
    }
   ],
   "source": [
    "interval = np.linspace(0,4,41)\n",
    "print(interval)\n",
    "plt.scatter(interval, grid_p_tree.count_neighbors(grid_p_tree, interval))\n",
    "#Logically, the KDTree has more neighbours if you increase the range.\n",
    "#You see the same jumps as with the above histogram"
   ]
  },
  {
   "cell_type": "markdown",
   "metadata": {},
   "source": [
    "# Sparse distance matrix"
   ]
  },
  {
   "cell_type": "code",
   "execution_count": 42,
   "metadata": {},
   "outputs": [
    {
     "data": {
      "text/plain": [
       "<3200x3200 sparse matrix of type '<class 'numpy.float64'>'\n",
       "\twith 8183008 stored elements in Dictionary Of Keys format>"
      ]
     },
     "execution_count": 42,
     "metadata": {},
     "output_type": "execute_result"
    }
   ],
   "source": [
    "grid_p_sparse = grid_p_tree.sparse_distance_matrix(grid_p_tree, max_distance=3)\n",
    "grid_p_sparse"
   ]
  },
  {
   "cell_type": "code",
   "execution_count": 43,
   "metadata": {},
   "outputs": [
    {
     "data": {
      "text/plain": [
       "(array([  14468.,   41684.,   62672.,   76520.,   81926.,   80616.,\n",
       "          71256.,   59754.,   47062.,   35216.,   24860.,   16422.,\n",
       "          10390.,    6200.,    3676.,    2086.,    1242.,     982.,\n",
       "           1124.,    1722.,    3030.,    5430.,    9396.,   15336.,\n",
       "          24046.,   35008.,   49638.,   68286.,   88768.,  108774.,\n",
       "         129196.,  147370.,  160054.,  167118.,  165106.,  157246.,\n",
       "         145978.,  131058.,  117210.,  104990.,   97438.,   94876.,\n",
       "          96554.,  103618.,  111300.,  118764.,  124104.,  124498.,\n",
       "         120476.,  111560.,   99474.,   84982.,   69694.,   55812.,\n",
       "          42762.,   34020.,   28522.,   26988.,   30196.,   37026.,\n",
       "          47850.,   61152.,   76702.,   93122.,  110920.,  127870.,\n",
       "         143836.,  158592.,  169424.,  181018.,  188166.,  193796.,\n",
       "         198992.,  196926.,  191392.,  181452.,  164970.,  146924.,\n",
       "         124378.,  101724.,   79262.,   59944.,   44202.,   32470.,\n",
       "          25180.,   20790.,   20128.,   23026.,   28138.,   36124.,\n",
       "          45234.,   55644.,   67126.,   77238.,   86582.,   94522.,\n",
       "         102544.,  108844.,  112654.,  118570.]),\n",
       " array([  2.39222238e-04,   3.02368223e-02,   6.02344224e-02,\n",
       "          9.02320225e-02,   1.20229623e-01,   1.50227223e-01,\n",
       "          1.80224823e-01,   2.10222423e-01,   2.40220023e-01,\n",
       "          2.70217623e-01,   3.00215223e-01,   3.30212823e-01,\n",
       "          3.60210423e-01,   3.90208023e-01,   4.20205624e-01,\n",
       "          4.50203224e-01,   4.80200824e-01,   5.10198424e-01,\n",
       "          5.40196024e-01,   5.70193624e-01,   6.00191224e-01,\n",
       "          6.30188824e-01,   6.60186424e-01,   6.90184024e-01,\n",
       "          7.20181624e-01,   7.50179225e-01,   7.80176825e-01,\n",
       "          8.10174425e-01,   8.40172025e-01,   8.70169625e-01,\n",
       "          9.00167225e-01,   9.30164825e-01,   9.60162425e-01,\n",
       "          9.90160025e-01,   1.02015763e+00,   1.05015523e+00,\n",
       "          1.08015283e+00,   1.11015043e+00,   1.14014803e+00,\n",
       "          1.17014563e+00,   1.20014323e+00,   1.23014083e+00,\n",
       "          1.26013843e+00,   1.29013603e+00,   1.32013363e+00,\n",
       "          1.35013123e+00,   1.38012883e+00,   1.41012643e+00,\n",
       "          1.44012403e+00,   1.47012163e+00,   1.50011923e+00,\n",
       "          1.53011683e+00,   1.56011443e+00,   1.59011203e+00,\n",
       "          1.62010963e+00,   1.65010723e+00,   1.68010483e+00,\n",
       "          1.71010243e+00,   1.74010003e+00,   1.77009763e+00,\n",
       "          1.80009523e+00,   1.83009283e+00,   1.86009043e+00,\n",
       "          1.89008803e+00,   1.92008563e+00,   1.95008323e+00,\n",
       "          1.98008083e+00,   2.01007843e+00,   2.04007603e+00,\n",
       "          2.07007363e+00,   2.10007123e+00,   2.13006883e+00,\n",
       "          2.16006643e+00,   2.19006403e+00,   2.22006163e+00,\n",
       "          2.25005923e+00,   2.28005683e+00,   2.31005443e+00,\n",
       "          2.34005203e+00,   2.37004963e+00,   2.40004723e+00,\n",
       "          2.43004483e+00,   2.46004243e+00,   2.49004003e+00,\n",
       "          2.52003763e+00,   2.55003523e+00,   2.58003283e+00,\n",
       "          2.61003043e+00,   2.64002803e+00,   2.67002563e+00,\n",
       "          2.70002323e+00,   2.73002083e+00,   2.76001843e+00,\n",
       "          2.79001603e+00,   2.82001363e+00,   2.85001123e+00,\n",
       "          2.88000883e+00,   2.91000643e+00,   2.94000403e+00,\n",
       "          2.97000163e+00,   2.99999923e+00]),\n",
       " <a list of 100 Patch objects>)"
      ]
     },
     "execution_count": 43,
     "metadata": {},
     "output_type": "execute_result"
    },
    {
     "data": {
      "image/png": "[encoded data removed]",
      "text/plain": [
       "<matplotlib.figure.Figure at 0x7f08baea5588>"
      ]
     },
     "metadata": {},
     "output_type": "display_data"
    }
   ],
   "source": [
    "sparse_values = np.array(list(grid_p_sparse.values()))\n",
    "plt.hist(sparse_values, bins=100)"
   ]
  },
  {
   "cell_type": "code",
   "execution_count": 14,
   "metadata": {},
   "outputs": [],
   "source": [
    "import peakutils"
   ]
  },
  {
   "cell_type": "code",
   "execution_count": 44,
   "metadata": {},
   "outputs": [],
   "source": [
    "sparse_hist, sparse_bin_edges = np.histogram(sparse_values, bins=100)"
   ]
  },
  {
   "cell_type": "code",
   "execution_count": 45,
   "metadata": {},
   "outputs": [
    {
     "data": {
      "text/plain": [
       "array([ 4, 33, 47, 72])"
      ]
     },
     "execution_count": 45,
     "metadata": {},
     "output_type": "execute_result"
    }
   ],
   "source": [
    "#Peaks of histogram\n",
    "peakutils.indexes(sparse_hist, thres=0.3, min_dist=0.2)"
   ]
  },
  {
   "cell_type": "code",
   "execution_count": null,
   "metadata": {
    "collapsed": true
   },
   "outputs": [],
   "source": []
  },
  {
   "cell_type": "code",
   "execution_count": null,
   "metadata": {
    "collapsed": true
   },
   "outputs": [],
   "source": []
  },
  {
   "cell_type": "code",
   "execution_count": null,
   "metadata": {
    "collapsed": true
   },
   "outputs": [],
   "source": []
  },
  {
   "cell_type": "code",
   "execution_count": null,
   "metadata": {
    "collapsed": true
   },
   "outputs": [],
   "source": []
  },
  {
   "cell_type": "code",
   "execution_count": null,
   "metadata": {
    "collapsed": true
   },
   "outputs": [],
   "source": []
  },
  {
   "cell_type": "code",
   "execution_count": null,
   "metadata": {
    "collapsed": true
   },
   "outputs": [],
   "source": []
  },
  {
   "cell_type": "code",
   "execution_count": null,
   "metadata": {
    "collapsed": true
   },
   "outputs": [],
   "source": []
  },
  {
   "cell_type": "code",
   "execution_count": null,
   "metadata": {
    "collapsed": true
   },
   "outputs": [],
   "source": []
  },
  {
   "cell_type": "code",
   "execution_count": null,
   "metadata": {
    "collapsed": true
   },
   "outputs": [],
   "source": []
  },
  {
   "cell_type": "code",
   "execution_count": null,
   "metadata": {
    "collapsed": true
   },
   "outputs": [],
   "source": []
  },
  {
   "cell_type": "code",
   "execution_count": null,
   "metadata": {
    "collapsed": true
   },
   "outputs": [],
   "source": []
  },
  {
   "cell_type": "code",
   "execution_count": null,
   "metadata": {
    "collapsed": true
   },
   "outputs": [],
   "source": []
  },
  {
   "cell_type": "code",
   "execution_count": null,
   "metadata": {
    "collapsed": true
   },
   "outputs": [],
   "source": []
  },
  {
   "cell_type": "code",
   "execution_count": null,
   "metadata": {
    "collapsed": true
   },
   "outputs": [],
   "source": []
  },
  {
   "cell_type": "code",
   "execution_count": null,
   "metadata": {
    "collapsed": true
   },
   "outputs": [],
   "source": []
  }
 ],
 "metadata": {
  "kernelspec": {
   "display_name": "Python 3",
   "language": "python",
   "name": "python3"
  },
  "language_info": {
   "codemirror_mode": {
    "name": "ipython",
    "version": 3
   },
   "file_extension": ".py",
   "mimetype": "text/x-python",
   "name": "python",
   "nbconvert_exporter": "python",
   "pygments_lexer": "ipython3",
   "version": "3.5.3"
  }
 },
 "nbformat": 4,
 "nbformat_minor": 1
}
