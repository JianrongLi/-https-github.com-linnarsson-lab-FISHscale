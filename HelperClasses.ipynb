{
 "cells": [
  {
   "cell_type": "code",
   "execution_count": 27,
   "metadata": {},
   "outputs": [],
   "source": [
    "class Helper(object):\n",
    "        \n",
    "    def add(self, b):\n",
    "        v2 =  self.value1 + b\n",
    "        self.h.value_add = v2\n",
    "\n",
    "        return v2\n",
    "    \n",
    "class Helper2(object):\n",
    "    def mul(self, a, b):\n",
    "        return a * b\n",
    "\n",
    "\n",
    "class MyClass(Helper,Helper2):\n",
    "\n",
    "    def __init__(self,value1):\n",
    "        self.value1 = value1\n",
    "        #Helper.__init__(self)\n",
    "        Helper2.__init__(self)\n",
    "        \n",
    "        self.h = Helper()\n",
    "\n",
    "        \n",
    "        print(self.add( 24))\n",
    "        print(self.mul(self.value1, 2))"
   ]
  },
  {
   "cell_type": "code",
   "execution_count": 28,
   "metadata": {},
   "outputs": [
    {
     "name": "stdout",
     "output_type": "stream",
     "text": [
      "69\n",
      "90\n"
     ]
    }
   ],
   "source": [
    "mc =  MyClass(45)"
   ]
  },
  {
   "cell_type": "code",
   "execution_count": 30,
   "metadata": {},
   "outputs": [
    {
     "data": {
      "text/plain": [
       "69"
      ]
     },
     "execution_count": 30,
     "metadata": {},
     "output_type": "execute_result"
    }
   ],
   "source": [
    "mc.h.value_add"
   ]
  },
  {
   "cell_type": "code",
   "execution_count": null,
   "metadata": {},
   "outputs": [],
   "source": []
  }
 ],
 "metadata": {
  "kernelspec": {
   "display_name": "Python 3",
   "language": "python",
   "name": "python3"
  },
  "language_info": {
   "codemirror_mode": {
    "name": "ipython",
    "version": 3
   },
   "file_extension": ".py",
   "mimetype": "text/x-python",
   "name": "python",
   "nbconvert_exporter": "python",
   "pygments_lexer": "ipython3",
   "version": "3.8.5"
  }
 },
 "nbformat": 4,
 "nbformat_minor": 4
}
